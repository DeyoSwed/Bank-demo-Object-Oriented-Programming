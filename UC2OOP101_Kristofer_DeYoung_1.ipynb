{
 "cells": [
  {
   "cell_type": "markdown",
   "metadata": {},
   "source": [
    "# ABC Bank"
   ]
  },
  {
   "cell_type": "markdown",
   "metadata": {},
   "source": [
    "## Table of Contents: <a class=\"anchor\" id=\"toc\"></a>\n",
    "\n",
    "1. [Introduction](#1)<br>\n",
    "  1.1 [Classdiagram](#1_1)<br>\n",
    "  1.2 [Introduction](#1_2)<br>\n",
    "  1.3 [Engaging with this document](#1_3)<br>\n",
    "\n",
    "2. [Abstract methods](#2)<br>\n",
    "  2.1 [Intro abstract methods](#2_1)<br>\n",
    "  2.2 [Abstract class diagram](#2_2)<br>\n",
    "  2.3 [Classdiagram](#2_3)<br>\n",
    "\n",
    "3. [Datahandeling (Adapter Pattern)](#3)<br>\n",
    "  3.1 [Intro](#3_1)<br>\n",
    "  3.2 [Class diagram](#3_2)<br>\n",
    "  3.3 [Mock database](#3_3)<br>\n",
    "  3.4 [Database handler](#3_4)<br>\n",
    "  3.5 [Test block](#3_5)<br>\n",
    "\n",
    "4. [Loan application (Factory pattern)](#4)<br>\n",
    "  4.1 [Intro](#4_1)<br>\n",
    "  4.2 [Class diagram](#4_2)<br>\n",
    "  4.3 [Abstract class](#4_3)<br>\n",
    "  4.4 [Loan application algorithm](#4_4)<br>\n",
    "  4.5 [Test block](#4_5)<br>\n",
    "\n",
    "5. [Account Products(Strategy/Factory/Decorator pattern)](#5)<br>\n",
    "  5.1 [Intro](#5_1)<br>\n",
    "  5.2 [Class diagram](#5_2)<br>\n",
    "  5.3 [Product Abstract class](#5_3)<br>\n",
    "  5.4 [Product algorithms](#5_4)<br>\n",
    "  5.5 [Product Factory](#5_5)<br>\n",
    "  5.6 [Product Functions](#5_6)<br>\n",
    "  5.7 [Test block](#5_7)<br>\n",
    "\n",
    "6. [Customer Benifits (Strategy Pattern or Abstract Factory)](#6)<br>\n",
    "  6.1 [Intro](#6_1)<br>\n",
    "  6.2 [Class diagram](#6_2)<br>\n",
    "  6.3 [Membership Abstract class](#6_3)<br>\n",
    "  6.4 [Memberships](#6_4)<br>\n",
    "  6.5 [Membership](#6_5)<br>\n",
    "  6.5 [Test block](#6_6)<br>\n",
    "  \n",
    "7. [Interfaces (Facade pattern)](#7)<br>\n",
    "  7.1 [Intro section](#7_1)<br>\n",
    "  7.2 [Class diagram](#7_2)<br>\n",
    "  7.3 [Interface Loan](#7_3)<br>\n",
    "  7.4 [Test Loan Interface](#7_4)<br>\n",
    "  7.5 [Interface Accounts](#7_5)<br>\n",
    "  7.6 [Test Accounts Interface](#7_6)<br>\n",
    "  7.7 [Interface BankMain](#7_7)<br>\n",
    "  7.8 [Test BankMain Interface](#7_8)<br>\n",
    "  7.9 [Interface Login](#7_9)<br>\n",
    "\n",
    "8. [Conclusion](#8)<br>\n",
    "  8.1[Last words](#8_1)<br>\n",
    "  8.2[Interfaces Login (Run all)](#8_2)<br>\n"
   ]
  },
  {
   "cell_type": "markdown",
   "metadata": {},
   "source": [
    "## 1. Introduction <a class=\"anchor\" id=\"1.\"></a>"
   ]
  },
  {
   "cell_type": "markdown",
   "metadata": {},
   "source": [
    "### 1.1 Classdiagram <a class=\"anchor\" id=\"1_1\"></a>\n",
    "This is a full class diagram to realize the full scope of the prototype; the diagram is further broken down in each section for better clarity."
   ]
  },
  {
   "cell_type": "markdown",
   "metadata": {},
   "source": [
    "![title](OPP_term_papper.drawio.png)"
   ]
  },
  {
   "cell_type": "markdown",
   "metadata": {},
   "source": [
    "### 1.2 Introduction <a class=\"anchor\" id=\"1_1\"></a>\n",
    "\n",
    "The prototype aims to break down the structures (design patterns) used to ensure usability and flexibility for future extensions. Thus the project uses a combined pattern, combining an abstract factory, strategy, decorator, facade and observer patterns. Each of these patterns offers different benefits to functionalities that this bank requires, thus ensuring the best utilization of the four pillars of programming:\n",
    "* Encapsulation\n",
    "* Abstraction\n",
    "* Inheritance\n",
    "* Polymorphism\n",
    "\n",
    "The scope of the prototype encompasses multiple design principles, which will further be broken down in each section, however, one of the most important in the case ABC bank is to \"strive for loosely coupled designs between objects that interact\". Taking into consideration that ABC bank needs to break into a competitive market with new and innovative solutions, I believe in adopting a modular approach where objects or (clusters for functionality) can plug and played as new needs arise."
   ]
  },
  {
   "cell_type": "markdown",
   "metadata": {},
   "source": [
    "### 1.3 Engaging with this document <a class=\"anchor\" id=\"1_3\"></a>\n",
    "Each section has broken up into the different functions of the program, following one or more design patterns, Therefore there will be a short introduction for each describing how they function and why they are chosen. \n",
    "\n",
    "There is also a class diagram giving a high-level overview of inheritance and composition between relevant objects in that section.\n",
    "\n",
    "Each section is further subdivided to break down the different functionalities of the objects, there will follow a short explanation for each section if necessary and a test code block, showcasing that module.\n",
    "\n",
    "At the end of this document, there is a combined interface testing some of the interconnections between each of the modules, this is not a full implementation only a prototype with limited functionality.\n",
    "\n",
    "Pressing the table of contents sections headers sends you directly to that section, in the same way pressing the button below will shortcut you \"Back to table of Contents\", allowing you to quickly navigate the prototype and concepts presented.\n",
    "\n",
    "[Back to Table of Contents](#toc)<br>"
   ]
  },
  {
   "cell_type": "markdown",
   "metadata": {},
   "source": [
    "## 2. Abstract methods <a class=\"anchor\" id=\"2\"></a>"
   ]
  },
  {
   "cell_type": "markdown",
   "metadata": {},
   "source": [
    "### 2.1 Intro abstract method <a class=\"anchor\" id=\"2_1\"></a>\n",
    "\n",
    "Since so much of the prototype is based on the use of abstraction and encapsulation it's important to quickly explain how this is done in the python language used.\n",
    "Importing abcmeta will us to use abstract classes and methods, that cannot be called on directly but instead, essentially give us a blueprint allowing us a more modular approach through Object-oriented programming. Thus allowing us to meet the requirements and prepare for future expansion of the functionality.\n",
    "\n",
    "The code cell below imports the library, to use abstract classes:"
   ]
  },
  {
   "cell_type": "code",
   "execution_count": 1,
   "metadata": {},
   "outputs": [],
   "source": [
    "#importing ACB meta for using abstract classes\n",
    "from abc import ABCMeta, abstractmethod"
   ]
  },
  {
   "cell_type": "markdown",
   "metadata": {},
   "source": [
    "### 2.2 Abstract class diagram <a class=\"anchor\" id=\"2_2\"></a>\n",
    "\n",
    "![title1](abstract_methods.drawio.png)\n",
    "\n",
    "In the diagram below you see that the class teacher has 3 subclasses with an (is-a) relationship essentially meaning that all Professors and instructors are also teachers. \"Teacher\", in this case, is an abstract class with two abstract methods, these can be polymorphed by any subclasses, to implement their set of rules(privileges) and their naming convention depending on which is instantiated.\n",
    "\n",
    "[Back to Table of Contents](#toc)<br>"
   ]
  },
  {
   "cell_type": "markdown",
   "metadata": {},
   "source": [
    "## 3. Datahandeling (Adapter Pattern)<a class=\"anchor\" id=\"3\"></a>"
   ]
  },
  {
   "cell_type": "markdown",
   "metadata": {},
   "source": [
    "### 3.1 Intro database <a class=\"anchor\" id=\"3_1\"></a>\n",
    "ABC bank will most likely implement a relational database instead of NoSQL because of the importance of consistency in transactions of data. Any choice of large-scale databases will need the program's read-and-write requests to be adapted into a query language. The adapter pattern, though ideal for this circumstance, isn't completely showcased in the code block.\n",
    "This is because we needed a functional prototype, so I have instead utilized a python dictionary as key-value storage, for the functionality of the demo. Though the coding differs the principles remain the same, our object(DatabaseHandler) lies in between the program and database(key-value storage) the same way an adapter would, adapting interaction between two objects.\n",
    "\n",
    "The efficiency of using an adapter means that we can not only extend the object with further adaptation, but we also can replace the object hope with minimal changes To the main code base. Thus incapsulating the necessary functionality used for reading and writing data to the database and allowing the banking system to adhere to design principles such as \"classes should open for extension, closed for modification. \n",
    "\n",
    "\n",
    "The class diagram below is simpler in the sense that has fewer objects."
   ]
  },
  {
   "cell_type": "markdown",
   "metadata": {},
   "source": [
    "### 3.2 class diagram <a class=\"anchor\" id=\"3_2\"></a>\n",
    "![title1](OPP_term_papper_db.drawio.png)"
   ]
  },
  {
   "cell_type": "markdown",
   "metadata": {},
   "source": [
    "### 3.3 Mock database <a class=\"anchor\" id=\"3_3\"></a>\n",
    "Below are two simple dictionaries (key-value storage) used for demoing the prototype. Each entry has a key that corresponds to the value. Some keys are even further embedded with other dictionaries."
   ]
  },
  {
   "cell_type": "code",
   "execution_count": 2,
   "metadata": {},
   "outputs": [],
   "source": [
    "#customer info including account tied to customer\n",
    "customerdb = [{\"customer_id\":1,\"name\":\"Kristofer\",\"surname\":\"DeYoung\",\"username\":\"kris\",\"password\":\"123\",\"member\":\"gold\",\"accounts\":{\"savings\":\"10001\",\"highyeild\":\"10002\",\"pension\":\"10003\"}},\n",
    "{\"customer_id\":2,\"name\":\"Super\",\"surname\":\"Man\",\"member\":\"bronze\",\"accounts\":{\"savings\":\"10005\",\"highyeild\":\"10006\",\"current\":\"10007\"}}]\n",
    "\n",
    "#Transaction database\n",
    "accountdb = [{\"10001\":[[500,-100,900]]},{\"10002\":[[567,-14,500]]},{\"10003\":[[]]}]\n",
    "\n",
    "#Account database\n"
   ]
  },
  {
   "cell_type": "markdown",
   "metadata": {},
   "source": [
    "### 3.4 Database handler <a class=\"anchor\" id=\"3_4\"></a>\n",
    "The actual handler has a few universal functions that will be utilized by the rest program, these would need to be further adapted to another data structure or replaced entirely.\n",
    "\n",
    "The properties in this object are only for demonstration purposes only. Ideally, to maintain the speed and availability of the server, the relevant user data should be loaded into the memory stack once and then used and manipulated from memory, eventually writing back to the database once user operations are concluded. This is possible because most interactions from users on the banking systems will not collide with other users."
   ]
  },
  {
   "cell_type": "code",
   "execution_count": 3,
   "metadata": {},
   "outputs": [],
   "source": [
    "class DatabaseHandler():\n",
    "    # reads one user att a time\n",
    "    def __init__(self):\n",
    "        self._monthly_salary = int\n",
    "        self.__account_id = int\n",
    "        self.__time = str \n",
    "        self.__start_date = str\n",
    "        self.__end_date = str\n",
    "        self._age = \"age\"\n",
    "\n",
    "    # ensure that the next customer id is unique\n",
    "    def check_next_cid(self,database):\n",
    "        temp = 0\n",
    "        for index in database:\n",
    "            if index[\"customer_id\"] > temp:\n",
    "                temp = index[\"customer_id\"]\n",
    "            else:\n",
    "                pass\n",
    "        return temp+1\n",
    "\n",
    "\n",
    "    # searches database and yields one result\n",
    "    def search_db_one(self,database,key,match,result):\n",
    "        for index in database:\n",
    "            if index[key] == match:\n",
    "                return(index[result])\n",
    "    \n",
    "    # searches database and yields the relevant dictionary\n",
    "    def search_db_all(self,database,key,match):\n",
    "        for index in database:\n",
    "            if index[key] == match:\n",
    "                return(index)\n",
    "\n",
    "    #retives the whole list with transaction for the specific account\n",
    "    def get_transations(self,match):\n",
    "        for index in accountdb:\n",
    "            for key in index:\n",
    "                if key ==  match:\n",
    "                    return index[key]\n",
    "    \n",
    "    # summerizes all values in a list\n",
    "    def get_balance(self,match):\n",
    "        temp = self.get_transations(match)\n",
    "        for row in temp:\n",
    "            return sum(row)\n",
    "\n",
    "    # retrive the last transaction made in an ordered list\n",
    "    def get_last_transation(self,match):\n",
    "        for index in accountdb:\n",
    "            for key in index:\n",
    "                if key ==  match:\n",
    "                    return index[key][0][-1]\n",
    "\n",
    "    # univeral method appending to database\n",
    "    def write_transaction(self,match,value,add):\n",
    "        temp = self.get_transations(match)\n",
    "        for row in temp:\n",
    "            if add == True:\n",
    "                row.append(int(value))\n",
    "                return True\n",
    "            elif add == False:\n",
    "                row.append(int(-value))\n",
    "                return True\n",
    "            else:\n",
    "                return False\n",
    "\n",
    "        else:\n",
    "            return False"
   ]
  },
  {
   "cell_type": "markdown",
   "metadata": {},
   "source": [
    "### 3.5 Test block <a class=\"anchor\" id=\"3_5\"></a>\n",
    "\n",
    "Here are some examples of interacting directly with the data handling object, similar to how the program will approach pulling appropriate data when needed.\n",
    "\n",
    "Interact with the code window below by adding and removing \"#\" to see individual output:"
   ]
  },
  {
   "cell_type": "code",
   "execution_count": 4,
   "metadata": {},
   "outputs": [
    {
     "name": "stdout",
     "output_type": "stream",
     "text": [
      "123\n",
      "{'savings': '10001', 'highyeild': '10002', 'pension': '10003'}\n",
      "{'customer_id': 1, 'name': 'Kristofer', 'surname': 'DeYoung', 'username': 'kris', 'password': '123', 'member': 'gold', 'accounts': {'savings': '10001', 'highyeild': '10002', 'pension': '10003'}}\n",
      "3\n",
      "[[500, -100, 900]]\n",
      "True\n",
      "[[500, -100, 900, 500]]\n",
      "500\n",
      "1800\n"
     ]
    }
   ],
   "source": [
    "l1 = DatabaseHandler()\n",
    "#l1.write_new_db(customerdb)\n",
    "# search results\n",
    "print(l1.search_db_one(database=customerdb,key=\"username\",match=\"kris\",result=\"password\"))\n",
    "print(l1.search_db_one(database=customerdb,key=\"username\",match=\"kris\",result=\"accounts\"))\n",
    "print(l1.search_db_all(database=customerdb,key=\"username\",match=\"kris\"))\n",
    "print(l1.check_next_cid(customerdb))\n",
    "#print(l1.search_db_one(database=accountdb,key=\"10001\",match=\"kris\",result=\"password\"))\n",
    "\n",
    "print(l1.get_transations(\"10001\"))\n",
    "print(l1.write_transaction(\"10001\",500,True))\n",
    "print(l1.get_transations(\"10001\"))\n",
    "print(l1.get_last_transation(\"10001\"))\n",
    "print(l1.get_balance(\"10001\"))\n"
   ]
  },
  {
   "cell_type": "markdown",
   "metadata": {},
   "source": [
    "[Back to Table of Contents](#toc)<br>"
   ]
  },
  {
   "cell_type": "markdown",
   "metadata": {},
   "source": [
    "## 4. Loan application (Factory Pattern)<a class=\"anchor\" id=\"4\"></a>"
   ]
  },
  {
   "cell_type": "markdown",
   "metadata": {},
   "source": [
    "### 4.1 Intro <a class=\"anchor\" id=\"4_1\"></a>\n",
    "The loan applications module as an isolated unit follows the Factory pattern. Loan applications are a specific set of sequences that calculate upon commonly inherited properties by parent class, thus avoiding code duplication. The design pattern allows as previously mentioned overwriting the abstract method with the set instruction on how that particular loan application should be processed and what properties will be considered for each type of loan.\n",
    "\n",
    "Then module eventually returns a yes or no if the loan is approved for the end user, depending on the multiple requirements.\n",
    "\n",
    "The Different loan applications can easily be expanded upon and offer an extensive range of products such as; refinancing the home loan, boat loan or other types of loans that will need to consider a client's financial situation.\n",
    "\n",
    "In this case to simplify the reading of this document the rest of this module or the \"factory\" is found on: 7.3 [Interface Loan](#7_3) this allows the user instantiates the chosen object (loan type). Incorporating the design principle \"Identify the aspects that vary and separate them from what stays the same.\"\n"
   ]
  },
  {
   "cell_type": "markdown",
   "metadata": {},
   "source": [
    "### 4.2 class diagram <a class=\"anchor\" id=\"4_2\"></a>\n",
    "![title1](OPP_term_papper_loans.drawio.png)"
   ]
  },
  {
   "cell_type": "markdown",
   "metadata": {},
   "source": [
    "### 4.3 Abstract class <a class=\"anchor\" id=\"4_3\"></a>\n",
    "Blueprint for loan applications, with one method, that allows the subclass to polymorph their own implementation of algorithms. This class initializes properties and the same properties are inherited by all subclass since these don't change despite the object being instantiated."
   ]
  },
  {
   "cell_type": "code",
   "execution_count": 5,
   "metadata": {},
   "outputs": [],
   "source": [
    "# All properties are not in use this only for demo purposes\n",
    "class LoanApplication(metaclass=ABCMeta):\n",
    "    def __init__(self, salary,age):\n",
    "        self._monthly_salary = salary\n",
    "        self.__account_id = int\n",
    "        self.__time = str\n",
    "        self.__start_date = str\n",
    "        self.__end_date = str\n",
    "        self._age = age\n",
    " \n",
    "  \n",
    "    @abstractmethod\n",
    "    def loan_approval(self):\n",
    "        pass"
   ]
  },
  {
   "cell_type": "markdown",
   "metadata": {},
   "source": [
    "### 4.4 Loan application algorithm <a class=\"anchor\" id=\"4_4\"></a>\n",
    "\n",
    "The following approval calculations inherit common application properties and essentially overwrite the loan_approval method the parent class. For test purposes only use 2 of the properties."
   ]
  },
  {
   "cell_type": "code",
   "execution_count": 6,
   "metadata": {},
   "outputs": [],
   "source": [
    "class HomeLoanApproval(LoanApplication):\n",
    "    def loan_approval(self):\n",
    "        calculate_loan = self._monthly_salary * 12 * 4.5\n",
    "        if self._age >= 50:\n",
    "            print(\"denied for a loan to old\")\n",
    "            return False\n",
    "\n",
    "        elif self._age < 30 and self._age > 18:\n",
    "            print(f\"approved for amount {calculate_loan} kr this is a special loan for youth\")\n",
    "            return True\n",
    "\n",
    "        elif self._age >= 30 and self._age < 50:\n",
    "            print(f\"approved for amount {calculate_loan} kr this is normal loan terms\")\n",
    "            return True\n",
    "\n",
    "        else:\n",
    "            print(\"denied to young or dead\")\n",
    "            return False\n",
    "\n",
    "class LoanApproval(LoanApplication):\n",
    "   def loan_approval(self):\n",
    "        calculate_loan = self._monthly_salary * 2\n",
    "        \n",
    "        if self._age >= 50:\n",
    "            print(\"denied for a loan to old\")\n",
    "            return False\n",
    "\n",
    "        elif self._age < 30 and self._age > 18:\n",
    "            print(f\"Not approved your to young\")\n",
    "            return False\n",
    "\n",
    "        elif self._age >= 30 and self._age < 50:\n",
    "            print(f\"approved for amount {calculate_loan} kr this is normal loan terms\")\n",
    "            return True\n",
    "\n",
    "        else:\n",
    "            print(f\"approved for amount {calculate_loan} kr this is normal loan terms\")\n",
    "            return True\n",
    "\n",
    "\n",
    "class CarLoanApproval(LoanApplication):\n",
    "    def loan_approval(self):\n",
    "        calculate_loan = self._monthly_salary * 12\n",
    "        if self._age >= 50:\n",
    "            print(f\"approved for amount {calculate_loan} kr this is normal loan terms\")\n",
    "            return True\n",
    "\n",
    "        elif self._age < 30 and self._age > 18:\n",
    "            print(f\"approved for amount {calculate_loan} kr, but your a high risk \")\n",
    "            return True\n",
    "\n",
    "        elif self._age >= 30 and self._age < 50:\n",
    "            print(f\"approved for amount {calculate_loan} kr this is normal loan terms\")\n",
    "            return True\n",
    "\n",
    "        else:\n",
    "            print(\"denied to young or dead\")\n",
    "            return False"
   ]
  },
  {
   "cell_type": "markdown",
   "metadata": {},
   "source": [
    "### 4.5 test block <a class=\"anchor\" id=\"4_5\"></a>\n",
    "Here are some examples of interacting directly with the Loan approval object in a similar fashion to how the program will interact with it.\n",
    "\n",
    "You can interact with the code window below by adding and removing \"#\" on one line at a time:"
   ]
  },
  {
   "cell_type": "markdown",
   "metadata": {},
   "source": [
    "move \"#\" on one line att a time:"
   ]
  },
  {
   "cell_type": "code",
   "execution_count": 7,
   "metadata": {},
   "outputs": [
    {
     "name": "stdout",
     "output_type": "stream",
     "text": [
      "approved for amount 2700000.0 kr this is a special loan for youth\n",
      "denied for a loan to old\n",
      "denied to young or dead\n"
     ]
    },
    {
     "data": {
      "text/plain": [
       "50000"
      ]
     },
     "execution_count": 7,
     "metadata": {},
     "output_type": "execute_result"
    }
   ],
   "source": [
    "l1 = HomeLoanApproval(50000,22)\n",
    "l1.loan_approval()\n",
    "\n",
    "l2 = LoanApproval(50000,65)\n",
    "l2.loan_approval()\n",
    "l2._monthly_salary\n",
    "\n",
    "l3 = CarLoanApproval(50320,18)\n",
    "l3.loan_approval()\n",
    "\n",
    "l2._monthly_salary"
   ]
  },
  {
   "cell_type": "markdown",
   "metadata": {},
   "source": [
    "[Back to Table of Contents](#toc)<br>"
   ]
  },
  {
   "cell_type": "markdown",
   "metadata": {},
   "source": [
    "## 5. Account products (Strategy/Factory/Decorater pattern) <a class=\"anchor\" id=\"5\"></a>"
   ]
  },
  {
   "cell_type": "markdown",
   "metadata": {},
   "source": [
    "### 5.1 Intro <a class=\"anchor\" id=\"5_1\"></a>\n",
    "The Account products module will be the largest in a bank as the transactional behavior of reading and writing a ledger is almost identical whether the product is a type of account as demonstrated below or a mortgage account or credit card account. They will have some form of:\n",
    "* reading = balance\n",
    "* writing = depositing\n",
    "* writing = withdrawing\n",
    "\n",
    "The only variation between accounts is basically that some work on a deficit and some surplus balance, so incorporating them into one module is prudent. Design principle: \"Identify the aspects of your application that vary and separate them from what stays the same\".\n",
    "\n",
    "The accounts follow the needs for a classic strategy pattern where they all implement the same modes of operations but with a few different properties supplied for the operations. However, because of the subtle differences in calculations, a combination of Factory and Strategy has been implemented in the code in sections 5.4 - 5.7.\n",
    "\n",
    "\n",
    "As seen in the diagram below, the credit card and debit card (is-a) CurrentAccount or CreditCardAccount. These decorate underlie accounts transactions, almost qualifying as an interface or facade themselves. Though these need to still be implemented, as many other types of accounts have yet to be implemented, this only goes to show the flexibility and extendability of this module. I would say that the current and planned implementation not only encompasses many of design principles but also SOLID principles:\n",
    "\n",
    "* Single resposibility princlple\n",
    "* Open closed princple\n",
    "* Liskovs substitution principle\n",
    "* Interface segregation principle\n",
    "* Dependency Inversion principle"
   ]
  },
  {
   "cell_type": "markdown",
   "metadata": {},
   "source": [
    "### 5.2 class diagram <a class=\"anchor\" id=\"5_2\"></a>\n",
    "![title1](OPP_term_papper_accounts.drawio.png)"
   ]
  },
  {
   "cell_type": "markdown",
   "metadata": {},
   "source": [
    "### 5.3 Product Abstract class <a class=\"anchor\" id=\"5_3\"></a>\n",
    "\n",
    "The abstract class has three abstract methods that allow them to overwrite the instantiated object's properties and sequence of operations.   "
   ]
  },
  {
   "cell_type": "code",
   "execution_count": 8,
   "metadata": {},
   "outputs": [],
   "source": [
    "# the abstract methods are replaced on instanciation\n",
    "# depending on chosen product\n",
    "class AccountProducts(metaclass=ABCMeta):  \n",
    "    @abstractmethod\n",
    "    def get_balance():\n",
    "        pass\n",
    "\n",
    "    @abstractmethod\n",
    "    def withdraw():\n",
    "        pass\n",
    "\n",
    "    @abstractmethod\n",
    "    def deposit(): \n",
    "        pass"
   ]
  },
  {
   "cell_type": "markdown",
   "metadata": {},
   "source": [
    "### 5.4 Product avalible <a class=\"anchor\" id=\"5_4\"></a>\n",
    "Read and write to the correct database according to the object passed further expanding the base will make it simple to copy AccountProducts \"blueprint\" of the methods available, and add customer products as needed."
   ]
  },
  {
   "cell_type": "code",
   "execution_count": 9,
   "metadata": {},
   "outputs": [],
   "source": [
    "class CurrentAccount(AccountProducts):\n",
    "    def __init__(self):\n",
    "        self.__this_account = \"Current\"\n",
    "\n",
    "    def get_balance(self,amount):\n",
    "        return f\"\\n{amount} is {self.__this_account} account balance\"\n",
    "        \n",
    "    def withdraw(self,write):\n",
    "        return f\"\\nwithdrawing {write} kr from {self.__this_account} account\"\n",
    "\n",
    "    def deposit(self,write):\n",
    "        return f\"\\ndepositing {write} kr {self.__this_account} account\"\n",
    "\n",
    "\n",
    "class HighYeildAccount(AccountProducts):\n",
    "    def __init__(self):\n",
    "        self.__this_account = \"Highyeild\"\n",
    "        self.__intrest_modifier = 0.50\n",
    "\n",
    "    def get_balance(self,amount):\n",
    "        return f\"\\n{amount} is {self.__this_account} account balance\"\n",
    "        \n",
    "    def withdraw(self,write):\n",
    "        return f\"\\nwithdrawing {write} kr from {self.__this_account} account\"\n",
    "\n",
    "    def deposit(self,write):\n",
    "        return f\"\\ndepositing {write} kr {self.__this_account} account\"\n",
    "    \n",
    "class SavingsAccount(AccountProducts):\n",
    "    def __init__(self):\n",
    "        self.__this_account = \"Savings\"\n",
    "        self.__intrest_modifier = 0.25\n",
    "\n",
    "    def get_balance(self,amount):\n",
    "        return f\"\\n{amount} is {self.__this_account} account balance\"\n",
    "        \n",
    "    def withdraw(self,write):\n",
    "        return f\"\\nwithdrawing {write} kr from {self.__this_account} account\"\n",
    "\n",
    "    def deposit(self,write):\n",
    "        return f\"\\ndepositing {write} kr {self.__this_account} account\"\n",
    "\n",
    "class PensionAccount(AccountProducts):\n",
    "    def __init__(self):\n",
    "        self.__this_account = \"Pension\"\n",
    "        self.__intrest_modifier = 0.50\n",
    "        self.__locked_date = \"date\"\n",
    "\n",
    "    def get_locked_date(self):\n",
    "        pass\n",
    "\n",
    "    def get_balance(self,amount):\n",
    "        return f\"\\n{amount} is {self.__this_account} account balance\"\n",
    "        \n",
    "    def withdraw(self,write):\n",
    "        return f\"\\n sense I'm relevant packages to calucate time I'm unsure reached age 65,\\\n",
    "        withdrawing {write} kr from {self.__this_account} account\"\n",
    "\n",
    "    def deposit(self,write):\n",
    "        return f\"\\ndepositing {write} kr {self.__this_account} account\""
   ]
  },
  {
   "cell_type": "markdown",
   "metadata": {},
   "source": [
    "### 5.5 Product Factory <a class=\"anchor\" id=\"5_5\"></a>\n",
    "\n",
    "When adding a new Product to the roster, the only place that needs to add code is in the ProductFactory below, adding a new dictionary item such as: '\"Homeloan\": HomeloanAccount()' and adding a new object with related procures above. An example of a loosely coupled design is closed for modification but open for extension."
   ]
  },
  {
   "cell_type": "code",
   "execution_count": 10,
   "metadata": {},
   "outputs": [],
   "source": [
    "# allowing user to input the strategy same as previously and instanciate the relevant object\n",
    "# returning it for use for another object\n",
    "class ProductFactory():\n",
    "    __factory_products = ()\n",
    "    def __init__(self):\n",
    "        # Add new products to dictionary\n",
    "        self.__factory_products = {\n",
    "            \"current\": CurrentAccount(),\n",
    "            \"pension\": PensionAccount(),\n",
    "            \"highyeild\": HighYeildAccount(),\n",
    "            \"savings\": SavingsAccount()\n",
    "        }\n",
    "        \n",
    "    # getter and settter property to allow other object to utilize se avalible products\n",
    "    def __get_product(self):\n",
    "        return self.__factory_products\n",
    "\n",
    "    def __set_product(self):\n",
    "        return \"\\nThis is not allowed\"      \n",
    "\n",
    "    list_products = property(__get_product,__set_product) \n",
    "\n",
    "    # Instansiates the choosen object\n",
    "    def choosen_product(self,strategy):\n",
    "        while True:\n",
    "            if strategy in self.__factory_products:\n",
    "                return self.__factory_products[strategy]\n",
    "            else:\n",
    "                raise Exception(f\"\\nProduct: {strategy} in unknown att this bank\")"
   ]
  },
  {
   "cell_type": "code",
   "execution_count": 11,
   "metadata": {},
   "outputs": [
    {
     "data": {
      "text/plain": [
       "{'current': <__main__.CurrentAccount at 0x12ef4fa1610>,\n",
       " 'pension': <__main__.PensionAccount at 0x12ef4fa15e0>,\n",
       " 'highyeild': <__main__.HighYeildAccount at 0x12ef4fa1640>,\n",
       " 'savings': <__main__.SavingsAccount at 0x12ef4fa1730>}"
      ]
     },
     "execution_count": 11,
     "metadata": {},
     "output_type": "execute_result"
    }
   ],
   "source": [
    "ProductFactory().list_products"
   ]
  },
  {
   "cell_type": "markdown",
   "metadata": {},
   "source": [
    "### 5.6 Product Functions <a class=\"anchor\" id=\"5_6\"></a>\n",
    "\n",
    "This acts interface to the more complex module, abstracting functionally for ease of use in the rest of the program."
   ]
  },
  {
   "cell_type": "code",
   "execution_count": 12,
   "metadata": {},
   "outputs": [],
   "source": [
    "class ProductFuctions():\n",
    "    def __init__(self,product, account_nr):\n",
    "        self.__product_pointer = product\n",
    "        self.__account_id = \"\"\n",
    "        self.__products_avalible = list\n",
    "        self.__deposit_amount = float\n",
    "        self.__account_number = account_nr\n",
    "    \n",
    "    # read the current balance\n",
    "    def get_balance(self):\n",
    "        amount = DatabaseHandler().get_balance(self.__account_number)\n",
    "        temp = ProductFactory().choosen_product(self.__product_pointer).get_balance(amount)\n",
    "        return temp\n",
    "\n",
    "    # reduces the amount in the account\n",
    "    def withdraw(self, withdraw_amount):\n",
    "        # gets balance to check if withdrawal is possible\n",
    "        balance = DatabaseHandler().get_balance(self.__account_number)\n",
    "        if balance >= withdraw_amount:\n",
    "            # instanciates database object to handles transaction, object returns a True if db is updated\n",
    "            amount = DatabaseHandler().write_transaction(self.__account_number,int(withdraw_amount),False)\n",
    "            if amount == True:\n",
    "                temp = ProductFactory().choosen_product(self.__product_pointer).withdraw(withdraw_amount)\n",
    "                # check value against account balance first\n",
    "                return temp\n",
    "            else:\n",
    "                return \"transaction failed\"\n",
    "        else:\n",
    "            return \"not enough to process transaction\"\n",
    "        \n",
    "    # increases the amount in the account\n",
    "    def deposit(self, deposit_amount):\n",
    "        # instanciates database object to handles transaction, object returns a True if db is updated\n",
    "        amount = DatabaseHandler().write_transaction(self.__account_number,int(deposit_amount),True)\n",
    "        if amount == True:\n",
    "            temp = ProductFactory().choosen_product(self.__product_pointer).deposit(deposit_amount)\n",
    "            # check value against account balance first\n",
    "            return temp\n",
    "        else:\n",
    "            return \"transaction failed\"\n",
    "\n",
    "\n",
    "    @abstractmethod\n",
    "    def add_product(self):\n",
    "        pass\n"
   ]
  },
  {
   "cell_type": "markdown",
   "metadata": {},
   "source": [
    "### 5.7 Test block <a class=\"anchor\" id=\"5_7\"></a>\n"
   ]
  },
  {
   "cell_type": "code",
   "execution_count": 13,
   "metadata": {},
   "outputs": [
    {
     "name": "stdout",
     "output_type": "stream",
     "text": [
      "\n",
      "1800 is Current account balance\n",
      "not enough to process transaction\n",
      "\n",
      "1800 is Current account balance\n",
      "\n",
      "depositing 100 kr Current account\n",
      "\n",
      "1900 is Current account balance\n"
     ]
    }
   ],
   "source": [
    "P1 = ProductFuctions(\"current\", \"10001\")\n",
    "print(P1.get_balance())\n",
    "print(P1.withdraw(5120))\n",
    "print(P1.get_balance())\n",
    "print(P1.deposit(100))\n",
    "print(P1.get_balance())\n",
    "\n"
   ]
  },
  {
   "cell_type": "markdown",
   "metadata": {},
   "source": [
    "[Back to Table of Contents](#toc)<br>"
   ]
  },
  {
   "cell_type": "markdown",
   "metadata": {},
   "source": [
    "## 6. Customer Benefits (Strategy Pattern or Abstract Factory)<a class=\"anchor\" id=\"6\"></a>"
   ]
  },
  {
   "cell_type": "markdown",
   "metadata": {},
   "source": [
    "### 6.1 Intro <a class=\"anchor\" id=\"6_1\"></a>\n",
    "The Membership benefits in this implementation are a strategy pattern using polymorphism to dynamically change between the befits packages. However, this will only impact the base rate of interest and be passed on to other aspects of the software, maybe also allowing some limited functions like adding special accounts for gold users.\n",
    "\n",
    "If the \"membership status\" is planned to significantly impacts all states of the objects in the future, an implementation with an abstract factory would be better suited for that scenario, thus allowing the instantiated membership to determine the sequence of the rest of the objects."
   ]
  },
  {
   "cell_type": "markdown",
   "metadata": {},
   "source": [
    "### 6.2 class diagram <a class=\"anchor\" id=\"6_2\"></a>\n",
    "![title1](OPP_term_papper_benifits.drawio.png)"
   ]
  },
  {
   "cell_type": "markdown",
   "metadata": {},
   "source": [
    "### 6.3 Membership Abstract class <a class=\"anchor\" id=\"6_3\"></a>"
   ]
  },
  {
   "cell_type": "code",
   "execution_count": 14,
   "metadata": {},
   "outputs": [],
   "source": [
    "class MemberShip(metaclass=ABCMeta):\n",
    "    def membership(self):\n",
    "        pass\n"
   ]
  },
  {
   "cell_type": "markdown",
   "metadata": {},
   "source": [
    "### 6.4 Memberships <a class=\"anchor\" id=\"6_4\"></a>\n",
    "Simple membership method that passes a weight on interest."
   ]
  },
  {
   "cell_type": "code",
   "execution_count": 15,
   "metadata": {},
   "outputs": [],
   "source": [
    "class BronzeMember(MemberShip):\n",
    "    def __init__(self,interest):\n",
    "        self._base_interest = interest\n",
    "        self.intrest_modifier = 0.3\n",
    "    def membership(self):\n",
    "        new_interest = self._base_interest - self.intrest_modifier\n",
    "        return f\"\\nbronze members get good interest at {new_interest}\" \n",
    "\n",
    "\n",
    "class SilverMember(MemberShip):\n",
    "    def __init__(self,interest):\n",
    "        self._base_interest = interest\n",
    "        self.intrest_modifier = 0.5\n",
    "\n",
    "    def membership(self):\n",
    "        new_interest = self._base_interest - self.intrest_modifier\n",
    "        return f\"\\nsilver members get better interest at {new_interest}\"\n",
    "\n",
    "\n",
    "class GoldMember(MemberShip):\n",
    "    def __init__(self,interest):\n",
    "        self._base_interest = interest\n",
    "        self.intrest_modifier = 0.7\n",
    "\n",
    "    def membership(self):\n",
    "        new_interest = self._base_interest - self.intrest_modifier\n",
    "        return f\"\\ngold members get the best interest at {new_interest}\""
   ]
  },
  {
   "cell_type": "markdown",
   "metadata": {},
   "source": [
    "### 6.5 Membership <a class=\"anchor\" id=\"6_5\"></a>\n"
   ]
  },
  {
   "cell_type": "code",
   "execution_count": 16,
   "metadata": {},
   "outputs": [],
   "source": [
    "class CustomerBenfits():\n",
    "    __factory_products = {}\n",
    "    def __init__(self,interest):\n",
    "        self.__interest = interest\n",
    "        # Add new products to dictionary\n",
    "        self.__factory_products = {\n",
    "            \"bronze\": BronzeMember(self.__interest),\n",
    "            \"silver\": SilverMember(self.__interest),\n",
    "            \"gold\": GoldMember(self.__interest)\n",
    "        }\n",
    "\n",
    "    # getter and settter property to allow other object to utilize se avalible products\n",
    "    def __get_product(self):\n",
    "        return self.__factory_products\n",
    "\n",
    "    def __set_product(self):\n",
    "        return \"\\nThis is not allowed\"      \n",
    "\n",
    "    list_benfits_products = property(__get_product,__set_product) \n",
    "\n",
    "    # Instansiates the choosen object\n",
    "    def choosen_product(self,strategy):\n",
    "        while True:\n",
    "            if strategy in self.__factory_products:\n",
    "                return self.__factory_products[strategy]\n",
    "            else:\n",
    "                raise Exception(f\"\\nProduct: {strategy} in unknown att this bank\")"
   ]
  },
  {
   "cell_type": "markdown",
   "metadata": {},
   "source": [
    "### 6.6 Test block <a class=\"anchor\" id=\"6_6\"></a>\n"
   ]
  },
  {
   "cell_type": "code",
   "execution_count": 17,
   "metadata": {},
   "outputs": [
    {
     "name": "stdout",
     "output_type": "stream",
     "text": [
      "\n",
      "bronze members get good interest at 3.7\n",
      "\n",
      "silver members get better interest at 3.5\n",
      "\n",
      "gold members get the best interest at 3.3\n"
     ]
    }
   ],
   "source": [
    "M1 = BronzeMember(4).membership()\n",
    "print(M1)\n",
    "M2 = SilverMember(4).membership()\n",
    "print(M2)\n",
    "M3 = GoldMember(4).membership()\n",
    "print(M3)"
   ]
  },
  {
   "cell_type": "markdown",
   "metadata": {},
   "source": [
    "[Back to Table of Contents](#toc)<br>"
   ]
  },
  {
   "cell_type": "markdown",
   "metadata": {},
   "source": [
    "## 7. Interfaces (Facade pattern) <a class=\"anchor\" id=\"7\"></a>"
   ]
  },
  {
   "cell_type": "markdown",
   "metadata": {},
   "source": [
    "### 7.1 Intro section <a class=\"anchor\" id=\"7_1\"></a>\n",
    "This section is split into multiple interfaces that interconnect the loosely coupled objects primarily incorporating the following design principles: \n",
    "* Program to an interface, not an implementation\n",
    "* Favor composition over inheritance\n",
    "* principle of least Knowledge - talk only to your immediate friends\n",
    "\n",
    "As all modules demonstrated above function individually, the purpose interfaces below are simply interactions between all the elements of the program. Thus incorporating the befits of the Facade pattern essentially masks the complex underlying structure.\n",
    "The interfaces themselves are also loosely coupled in the sense each choice you make will take you to the next object interface, all can be replaced for a desktop system or webpage."
   ]
  },
  {
   "cell_type": "markdown",
   "metadata": {},
   "source": [
    "### 7.2 class diagram <a class=\"anchor\" id=\"7_2\"></a>\n",
    "![title1](OPP_term_papper_interfaces.drawio.png)"
   ]
  },
  {
   "cell_type": "markdown",
   "metadata": {},
   "source": [
    "### 7.3 Interface Loan <a class=\"anchor\" id=\"7_3\"></a>\n",
    "\n",
    "Allows for iteraction with the different loan approvals"
   ]
  },
  {
   "cell_type": "code",
   "execution_count": 18,
   "metadata": {},
   "outputs": [],
   "source": [
    "class LoanInterface():\n",
    "    # intializer create a list different objects that can instaciated\n",
    "    def __init__(self):\n",
    "        self.__loan_products = {\n",
    "        \"homeloan\": HomeLoanApproval(50000,22),\n",
    "        \"loan\": LoanApproval(50000,65),\n",
    "        \"Carloan\": CarLoanApproval(50320,18)\n",
    "        }\n",
    "    \n",
    "    def __get_product(self):\n",
    "        return self.__loan_products\n",
    "\n",
    "    def __set_product(self):\n",
    "        return \"This is not allowed\"      \n",
    "\n",
    "    list_loan_products = property(__get_product,__set_product) \n",
    "\n",
    "    # Instansiates the chosen object\n",
    "    def interact(self):\n",
    "        print(\"\\nWhat kind loan would like to apply for, type the names from below:\")\n",
    "        for x in self.list_loan_products:\n",
    "            print(f\"Input: {x}\")\n",
    "        \n",
    "\n",
    "        print(\"\\nInput: back\")\n",
    "                \n",
    "        choice = input(\"input ex: homeloan\")\n",
    "        if choice == \"back\":\n",
    "            BankMain().interact()\n",
    "\n",
    "        elif choice in self.__loan_products:\n",
    "            self.__loan_products[choice].loan_approval()\n",
    "            self.interact()\n",
    "        \n",
    "        else:\n",
    "            raise Exception(f\"Product: {choice} in unknown att this bank\")\n"
   ]
  },
  {
   "cell_type": "markdown",
   "metadata": {},
   "source": [
    "### 7.4 Test Loan Interface <a class=\"anchor\" id=\"7_4\"></a>\n",
    "\n",
    "Remove \"#\" if you want to try this interface separately from the others."
   ]
  },
  {
   "cell_type": "code",
   "execution_count": 19,
   "metadata": {},
   "outputs": [],
   "source": [
    "#L1 = LoanInterface().interact()\n",
    "\n",
    "#L1.choosen_product(\"loan\")\n",
    "#L1.list_loan_products"
   ]
  },
  {
   "cell_type": "markdown",
   "metadata": {},
   "source": [
    "### 7.5 Interface Accounts <a class=\"anchor\" id=\"7_5\"></a>\n",
    "\n",
    "Prints statement and allow user to navigate through menus"
   ]
  },
  {
   "cell_type": "code",
   "execution_count": 20,
   "metadata": {},
   "outputs": [],
   "source": [
    "\n",
    "class YourAccounts():\n",
    "    def __init__(self):\n",
    "        self.__last_input = int\n",
    "        \n",
    "    # pull the current list of account products available\n",
    "\n",
    "\n",
    "    \n",
    "    def interact(self):\n",
    "        print(\"\"\"\n",
    "Choose which of your accounts you want to interact with by inputting a number:\n",
    "\"\"\")\n",
    "        \n",
    "        # retrives accounts tied to login in user\n",
    "        temp = DatabaseHandler().search_db_one(database=customerdb,key=\"username\",match=\"kris\",result=\"accounts\")\n",
    "        temp_keys = list(temp.keys())\n",
    "        product_list = ProductFactory()\n",
    "        for x in product_list.list_products:\n",
    "            for cust_pro in temp_keys:\n",
    "                if x == cust_pro:\n",
    "                    print(f\"Input: {x}\")\n",
    "                else:\n",
    "                    pass\n",
    "        print(\"\\nInput: back\")\n",
    "                \n",
    "        choice = input(\"\\ninput ex: savings \")\n",
    "        temp_account_nr = temp[choice]\n",
    "        if choice == \"back\":\n",
    "            BankMain().interact()\n",
    "        else:\n",
    "            pass\n",
    "\n",
    "\n",
    "        while True:\n",
    "            if choice in product_list.list_products:\n",
    "                print(\"\\nWhat would like to do, input number:\\\n",
    "\\n1 - Deposit\\\n",
    "\\n2 - Withdraw\\\n",
    "\\n3 - Balance\\\n",
    "\\n4 - Transactions\\\n",
    "\\n5 - back to accounts\")\n",
    "\n",
    "                action = input(\"input ex: 1\") \n",
    "                if action == \"1\":\n",
    "                    print(\"\\nHow much would like Deposit\")\n",
    "                    amount = int(input(\"input ex: 2030 \"))\n",
    "                    b1 = ProductFuctions(choice, temp_account_nr).deposit(amount)\n",
    "                    print(b1)\n",
    "                    \n",
    "                elif action == \"2\":\n",
    "                    print(\"\\nHow much would like Withdraw\")\n",
    "                    amount = int(input(\"input ex: 2035 \"))\n",
    "                    b1 = ProductFuctions(choice, temp_account_nr).withdraw(amount)\n",
    "                    print(b1)\n",
    "                    \n",
    "                elif action == \"3\":\n",
    "                    b1 = ProductFuctions(choice, temp_account_nr).get_balance()\n",
    "                    print(b1)\n",
    "                    \n",
    "                elif action == \"4\":\n",
    "                    b1 = DatabaseHandler().get_transations(temp_account_nr)  \n",
    "                    print(f\"\\nthe following transactions have been conducted: {b1}\")\n",
    "                    \n",
    "                elif action == \"5\":\n",
    "                    self.interact()\n",
    "\n",
    "                else:\n",
    "                    print(\"\\nTry Again and choose an item from list\")             \n",
    "\n",
    "                #return product_list.choosen_product(choice)\n",
    "            else:\n",
    "                print(f\"\\nProduct: {choice} in unknown att this bank, try again\")\n",
    "                self.interact()"
   ]
  },
  {
   "cell_type": "markdown",
   "metadata": {},
   "source": [
    "[Back to Table of Contents](#toc)<br>"
   ]
  },
  {
   "cell_type": "markdown",
   "metadata": {},
   "source": [
    "### 7.6 Test Accounts Interface <a class=\"anchor\" id=\"7_6\"></a>\n",
    "\n",
    "Remove \"#\" if you want to try this interface separately from the others."
   ]
  },
  {
   "cell_type": "code",
   "execution_count": 21,
   "metadata": {},
   "outputs": [],
   "source": [
    "#y1 = YourAccounts()\n",
    "#y1.interact()"
   ]
  },
  {
   "cell_type": "markdown",
   "metadata": {},
   "source": [
    "### 7.7 Interface Bankmain <a class=\"anchor\" id=\"7_7\"></a>\n",
    "\n",
    "Allows for iteraction with the different loan approvals"
   ]
  },
  {
   "cell_type": "code",
   "execution_count": 22,
   "metadata": {},
   "outputs": [],
   "source": [
    "class BankMain():\n",
    "    def __init__(self):\n",
    "        pass\n",
    "    \n",
    "    def interact(self):\n",
    "        \n",
    "\n",
    "        print(\"\"\"\\n\n",
    "Choose actions by inputting the number:\n",
    "    1 - Accounts\n",
    "    2 - Loan application\n",
    "    3 - Change customer details\n",
    "    4 - Inbox\n",
    "    5 - logout\"\"\")\n",
    "        temp = input(\"choose action\")\n",
    "        if temp == \"1\":\n",
    "            print(\"\\nAccounts\")\n",
    "            YourAccounts().interact()\n",
    "        elif temp == \"2\":\n",
    "            print(\"\\nLoan application\")\n",
    "            LoanInterface().interact()\n",
    "            \n",
    "        elif temp == \"3\":\n",
    "            print(\"\\nChange customer details\")\n",
    "            print(\"\\nObs! this functions not available yet, try something else\")\n",
    "            self.interact()\n",
    "        elif temp == \"4\":\n",
    "            print(\"\\nInbox\")\n",
    "            print(\"\\nObs! this functions not available yet, try something else\")\n",
    "            self.interact()\n",
    "        elif temp == \"5\":\n",
    "            print(\"logout\")\n",
    "            LoginBank.login()\n",
    "        else:\n",
    "            print(\"\\nPlease input the number of the action you require\")\n",
    "            self.interact()\n",
    "\n",
    "    # pull the current list of account products avalible \n",
    "    def get_current_products(self):\n",
    "        product_list = ProductFactory()\n",
    "        for y in product_list.list_products:\n",
    "            print(y)\n",
    "\n"
   ]
  },
  {
   "cell_type": "markdown",
   "metadata": {},
   "source": [
    "### 7.8 Test BankMain Interface <a class=\"anchor\" id=\"7_8\"></a>\n",
    "\n",
    "Remove \"#\" if you want to try this interface separately from the others."
   ]
  },
  {
   "cell_type": "code",
   "execution_count": 23,
   "metadata": {},
   "outputs": [],
   "source": [
    "#B1 = BankMain()\n",
    "#B1.interact()"
   ]
  },
  {
   "cell_type": "markdown",
   "metadata": {},
   "source": [
    "### 7.9 Interface Login <a class=\"anchor\" id=\"7_9\"></a>"
   ]
  },
  {
   "cell_type": "code",
   "execution_count": 24,
   "metadata": {},
   "outputs": [],
   "source": [
    "class LoginBank():\n",
    "    def __init__(self):\n",
    "        self.__username = \"kris\"\n",
    "        self.__password = \"123\"\n",
    "\n",
    "\n",
    "    def login(self):\n",
    "        print(\"\"\"\\n\n",
    "Choose actions by inputting the number:\n",
    "    1 - login\n",
    "    2 - new customer\n",
    "    3 - end simulation\"\"\")\n",
    "        temp = input(\"choose action\")\n",
    "        if temp == \"1\":\n",
    "            print(\"you choose to login\")\n",
    "            self.check_login_info()\n",
    "        elif temp == \"2\":\n",
    "            print(\"\\ncreate a customer account\")\n",
    "            print(\"Obs! this option is not available yet, try and use demo account \\\n",
    "                username: kris password 123\")\n",
    "            self.login()\n",
    "        elif temp == \"3\":\n",
    "            print(\"\\nyou choose to end program\")\n",
    "        else:\n",
    "            print(\"\\nPlease input the number of the action you require\")\n",
    "            self.login()\n",
    "\n",
    "    def check_login_info(self):\n",
    "        print(\"\\ninput your username\")\n",
    "        username = input(\"username:\")\n",
    "        print(\"\\ninput your password\")\n",
    "        password = input(\"password:\")\n",
    "        if username == self.__username and password == self.__password:\n",
    "            user_data = DatabaseHandler().search_db_one(database=customerdb,key=\"username\",match=\"kris\",result=\"member\")\n",
    "            print(CustomerBenfits(3).choosen_product(user_data).membership())\n",
    "            BankMain().interact()\n",
    "        else:\n",
    "            print(\"\\nself.login()something went wrong, try again\")\n",
    "            self.login()\n"
   ]
  },
  {
   "cell_type": "markdown",
   "metadata": {},
   "source": [
    "[Back to Table of Contents](#toc)<br>"
   ]
  },
  {
   "cell_type": "markdown",
   "metadata": {},
   "source": [
    "## 8. Conclusion <a class=\"anchor\" id=\"8\"></a>"
   ]
  },
  {
   "cell_type": "markdown",
   "metadata": {},
   "source": [
    "### 8.1 Last words <a class=\"anchor\" id=\"8_1\"></a>\n",
    "The necessity to ensure that the banking system not only functions as per the needs of the current client base but also ensures flexibility to grow and develop as new needs arise or technology matures.\n",
    "\n",
    "A project of this scale requires a fair amount of planning when combining design patterns and principles that are the foundation of good object-oriented programming. The different parts of the program that are presented, all require different approaches to ensure the best possible user experience. This can therefore cannot be a one size fits all scenario, but applying the fundamentals of OOP will increase the probability of avoiding a complete rework of the system in the future."
   ]
  },
  {
   "cell_type": "markdown",
   "metadata": {},
   "source": [
    "## 8.2 Test All Interfaces <a class=\"anchor\" id=\"8_2\"></a>\n",
    "Remove \"#\" if you wish to Run the login interface that runs all the demo parts of the program."
   ]
  },
  {
   "cell_type": "code",
   "execution_count": 25,
   "metadata": {},
   "outputs": [],
   "source": [
    "# Main running for the bank \"user Interface\"\n",
    "# demo account username: kris and password: 123\n",
    "\n",
    "#L1 = LoginBank()\n",
    "#L1.login()"
   ]
  },
  {
   "cell_type": "markdown",
   "metadata": {},
   "source": [
    "[Back to Table of Contents](#toc)<br>"
   ]
  }
 ],
 "metadata": {
  "kernelspec": {
   "display_name": "Python 3 (ipykernel)",
   "language": "python",
   "name": "python3"
  },
  "language_info": {
   "codemirror_mode": {
    "name": "ipython",
    "version": 3
   },
   "file_extension": ".py",
   "mimetype": "text/x-python",
   "name": "python",
   "nbconvert_exporter": "python",
   "pygments_lexer": "ipython3",
   "version": "3.9.7 (default, Sep 16 2021, 16:59:28) [MSC v.1916 64 bit (AMD64)]"
  },
  "vscode": {
   "interpreter": {
    "hash": "fd5f0602b361fcd80b6e43c9db32d5ff96b182a40640908c77b502a93aa9387e"
   }
  }
 },
 "nbformat": 4,
 "nbformat_minor": 2
}
